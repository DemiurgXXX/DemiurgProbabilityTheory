{
 "cells": [
  {
   "cell_type": "markdown",
   "id": "0c018ecb",
   "metadata": {},
   "source": [
    " #### 1. Даны значения величины заработной платы заемщиков банка (zp) и значения их поведенческого кредитного скоринга (ks). Используя математические операции, посчитать коэффициенты линейной регрессии, приняв за X заработную плату (то есть, zp - признак), а за y - значения скорингового балла (то есть, ks - целевая переменная). Произвести расчет как с использованием intercept, так и без."
   ]
  },
  {
   "cell_type": "code",
   "execution_count": 204,
   "id": "8d680fef",
   "metadata": {},
   "outputs": [],
   "source": [
    "import numpy as np\n",
    "from matplotlib import pyplot as plt"
   ]
  },
  {
   "cell_type": "code",
   "execution_count": 205,
   "id": "1517f1b3",
   "metadata": {},
   "outputs": [],
   "source": [
    "zp = np.array([35, 45, 190, 200, 40, 70, 54, 150, 120, 110])\n",
    "ks = np.array([401, 574, 874, 919, 459, 739, 653, 902, 746, 832])"
   ]
  },
  {
   "cell_type": "code",
   "execution_count": 206,
   "id": "e9811414",
   "metadata": {},
   "outputs": [
    {
     "name": "stdout",
     "output_type": "stream",
     "text": [
      "Коэффициент b1 = 2.62054\n"
     ]
    }
   ],
   "source": [
    "b1 = (np.mean(zp * ks) - np.mean(zp) * np.mean(ks)) / (np.mean(zp**2) - np.mean(zp) ** 2)\n",
    "print (f'Коэффициент b1 = {round(b1, 5)}')"
   ]
  },
  {
   "cell_type": "code",
   "execution_count": 207,
   "id": "0066c6ab",
   "metadata": {},
   "outputs": [
    {
     "name": "stdout",
     "output_type": "stream",
     "text": [
      "Коэффициент b0 = 444.17736\n"
     ]
    }
   ],
   "source": [
    "b0 = np.mean(ks) - b1 * np.mean(zp)\n",
    "print (f'Коэффициент b0 = {round(b0, 5)}')"
   ]
  },
  {
   "cell_type": "markdown",
   "id": "65e010f8",
   "metadata": {},
   "source": [
    "Произведём рассчёт коэффициентов линейной регрессии матричным способом"
   ]
  },
  {
   "cell_type": "code",
   "execution_count": 208,
   "id": "11d62625",
   "metadata": {},
   "outputs": [],
   "source": [
    "zpm = zp.reshape(10, 1)\n",
    "ksm = ks.reshape(10, 1)"
   ]
  },
  {
   "cell_type": "markdown",
   "id": "8b6924b7",
   "metadata": {},
   "source": [
    "Сначала с intercept"
   ]
  },
  {
   "cell_type": "code",
   "execution_count": 209,
   "id": "e49ec047",
   "metadata": {},
   "outputs": [],
   "source": [
    "zpm = np.hstack((np.ones((10, 1)), zpm))"
   ]
  },
  {
   "cell_type": "code",
   "execution_count": 210,
   "id": "e842f4ed",
   "metadata": {},
   "outputs": [
    {
     "name": "stdout",
     "output_type": "stream",
     "text": [
      "Коэффициент b0, полученный матричным способом = 444.17736\n",
      "Коэффициент b1, полученный матричным способом = 2.62054\n"
     ]
    }
   ],
   "source": [
    "Betta = np.dot(np.dot(np.linalg.inv(np.dot(zpm.T, zpm)), zpm.T), ksm)\n",
    "b0_mi = Betta[0,0]\n",
    "b1_mi = Betta[1,0]\n",
    "\n",
    "print (f'Коэффициент b0, полученный матричным способом = {round(b0_mi, 5)}')\n",
    "print (f'Коэффициент b1, полученный матричным способом = {round(b1_mi, 5)}')"
   ]
  },
  {
   "cell_type": "markdown",
   "id": "f0b78fa7",
   "metadata": {},
   "source": [
    "А теперь без intercept"
   ]
  },
  {
   "cell_type": "code",
   "execution_count": 211,
   "id": "99c719ec",
   "metadata": {},
   "outputs": [],
   "source": [
    "zpm = zp.reshape(10, 1)"
   ]
  },
  {
   "cell_type": "code",
   "execution_count": 212,
   "id": "5cfd46ae",
   "metadata": {},
   "outputs": [
    {
     "name": "stdout",
     "output_type": "stream",
     "text": [
      "Коэффициент b1, полученный матричным способом без intercept = 5.88982\n"
     ]
    }
   ],
   "source": [
    "Betta = np.dot(np.dot(np.linalg.inv(np.dot(zpm.T, zpm)), zpm.T), ksm)\n",
    "b1_mw = Betta[0,0]\n",
    "print (f'Коэффициент b1, полученный матричным способом без intercept = {round(b1_mw, 5)}')"
   ]
  },
  {
   "cell_type": "code",
   "execution_count": 213,
   "id": "668062c7",
   "metadata": {},
   "outputs": [
    {
     "data": {
      "image/png": "[encoded data removed]",
      "text/plain": [
       "<Figure size 1152x360 with 2 Axes>"
      ]
     },
     "metadata": {
      "needs_background": "light"
     },
     "output_type": "display_data"
    }
   ],
   "source": [
    "fig, ax = plt.subplots(nrows=1, ncols=2, sharex=True, sharey=True)\n",
    "\n",
    "fig.set_size_inches(16, 5)\n",
    "fig.subplots_adjust(wspace=0.3)\n",
    "\n",
    "ax[0].scatter(zp, ks, label = 'real', color = 'orange')\n",
    "ax[0].plot(zp, b0 + b1 * zp, label = 'linear regression', color = 'blue')\n",
    "ax[0].set_title(\"C intercept\")\n",
    "ax[0].legend()\n",
    "\n",
    "ax[1].scatter(zp, ks, label = 'real', color = 'orange')\n",
    "ax[1].plot(zp, b1_mw * zp, label = 'linear regression', color = 'blue')\n",
    "ax[1].set_title(\"Без intercept\")\n",
    "ax[1].legend()\n",
    "\n",
    "plt.show()"
   ]
  },
  {
   "cell_type": "markdown",
   "id": "e7976670",
   "metadata": {},
   "source": [
    "#### 2. Посчитать коэффициент линейной регрессии при заработной плате (zp), используя градиентный спуск (без intercept)."
   ]
  },
  {
   "cell_type": "code",
   "execution_count": 214,
   "id": "715727bc",
   "metadata": {},
   "outputs": [],
   "source": [
    "b1_g = 1\n",
    "alpha = 1e-6\n",
    "n = len(zp)"
   ]
  },
  {
   "cell_type": "code",
   "execution_count": 215,
   "id": "c2850c0f",
   "metadata": {},
   "outputs": [
    {
     "name": "stdout",
     "output_type": "stream",
     "text": [
      "На итерации 0 коэффициент b1 = 1.1347302 а mse = 368017.9491755833 \n",
      "На итерации 50 коэффициент b1 = 4.713701223813462 а mse = 75573.428039321 \n",
      "На итерации 100 коэффициент b1 = 5.598920289974488 а mse = 57682.67406321302 \n",
      "На итерации 150 коэффициент b1 = 5.817869476732655 а mse = 56588.179023299155 \n",
      "На итерации 200 коэффициент b1 = 5.872024146706 а mse = 56521.22156616817 \n",
      "На итерации 250 коэффициент b1 = 5.885418707897776 а mse = 56517.125338317 \n",
      "На итерации 300 коэффициент b1 = 5.8887317050891275 а mse = 56516.874745129535 \n",
      "На итерации 350 коэффициент b1 = 5.8895511384571 а mse = 56516.859414696795 \n",
      "На итерации 400 коэффициент b1 = 5.8897538162759355 а mse = 56516.858476833426 \n",
      "На итерации 450 коэффициент b1 = 5.889803946402255 а mse = 56516.85841945816 \n",
      "На итерации 500 коэффициент b1 = 5.8898163455368975 а mse = 56516.85841594815 \n",
      "На итерации 550 коэффициент b1 = 5.889819412326295 а mse = 56516.8584157334 \n",
      "На итерации 600 коэффициент b1 = 5.889820170862877 а mse = 56516.85841572027 \n",
      "На итерации 650 коэффициент b1 = 5.889820358478547 а mse = 56516.85841571947 \n",
      "На итерации 700 коэффициент b1 = 5.889820404883214 а mse = 56516.85841571941 \n",
      "На итерации 750 коэффициент b1 = 5.889820416360897 а mse = 56516.8584157194 \n",
      "На итерации 800 коэффициент b1 = 5.889820419199778 а mse = 56516.8584157194 \n",
      "На итерации 850 коэффициент b1 = 5.889820419901944 а mse = 56516.85841571941 \n",
      "На итерации 900 коэффициент b1 = 5.889820420075618 а mse = 56516.85841571941 \n",
      "На итерации 950 коэффициент b1 = 5.889820420118573 а mse = 56516.8584157194 \n",
      "На итерации 1000 коэффициент b1 = 5.8898204201291975 а mse = 56516.8584157194 \n",
      "Коэффициент b1, полученный градиентным спуском без intercept = 5.88982\n"
     ]
    }
   ],
   "source": [
    "def MSE(B1, X, Y, N):\n",
    "  return np.sum((B1 * X - Y) ** 2) / N\n",
    "\n",
    "for i in range (1001):\n",
    "    b1_g -= alpha * (2/n) * np.sum((b1_g * zp - ks) * zp)\n",
    "    \n",
    "    if i%50 == 0:\n",
    "        print(f'На итерации {i} коэффициент b1 = {b1_g} а mse = {MSE(b1_g, zp, ks, n)} ')\n",
    "\n",
    "print (f'Коэффициент b1, полученный градиентным спуском без intercept = {round(b1_g, 5)}')        "
   ]
  },
  {
   "cell_type": "markdown",
   "id": "8399a8d7",
   "metadata": {},
   "source": [
    "#### 3. Произвести вычисления как в пункте 2, но с вычислением intercept. Учесть, что изменение коэффициентов должно производиться на каждом шаге одновременно (то есть изменение одного коэффициента не должно влиять на изменение другого во время одной итерации)."
   ]
  },
  {
   "cell_type": "code",
   "execution_count": 231,
   "id": "335b182f",
   "metadata": {},
   "outputs": [
    {
     "name": "stdout",
     "output_type": "stream",
     "text": [
      "На итерации 0 коэффициент b0 = 444.00329, коэффициент b1 = 1.44687, а mse = 25489.12385362308 \n",
      "На итерации 100000 коэффициент b0 = 444.07775535885884, коэффициент b1 = 2.621271996905409, а mse = 6470.416717672479 \n",
      "На итерации 200000 коэффициент b0 = 444.1173852950992, коэффициент b1 = 2.620980303053279, а mse = 6470.4151135191105 \n",
      "На итерации 300000 коэффициент b0 = 444.14124715046995, коэффициент b1 = 2.6208046692478177, а mse = 6470.414531941662 \n",
      "На итерации 400000 коэффициент b0 = 444.1556147774712, коэффициент b1 = 2.620698917160796, а mse = 6470.414321093793 \n",
      "На итерации 500000 коэффициент b0 = 444.16426576886744, коэффициент b1 = 2.6206352420392967, а mse = 6470.414244651989 \n",
      "На итерации 600000 коэффициент b0 = 444.1694746772166, коэффициент b1 = 2.620596902170856, а mse = 6470.414216938416 \n",
      "На итерации 700000 коэффициент b0 = 444.172611049099, коэффициент b1 = 2.6205738170871324, а mse = 6470.414206891 \n",
      "На итерации 800000 коэффициент b0 = 444.1744995116887, коэффициент b1 = 2.620559917167535, а mse = 6470.414203248368 \n",
      "На итерации 900000 коэффициент b0 = 444.175636586975, коэффициент b1 = 2.620551547790698, а mse = 6470.414201927746 \n",
      "На итерации 1000000 коэффициент b0 = 444.1763212392573, коэффициент b1 = 2.6205465084471977, а mse = 6470.414201448967 \n",
      "На итерации 1100000 коэффициент b0 = 444.17673347998215, коэффициент b1 = 2.620543474173201, а mse = 6470.414201275382 \n",
      "На итерации 1200000 коэффициент b0 = 444.176981697102, коэффициент b1 = 2.6205416471854557, а mse = 6470.4142012124485 \n",
      "На итерации 1300000 коэффициент b0 = 444.17713115283385, коэффициент b1 = 2.620540547125191, а mse = 6470.414201189634 \n",
      "На итерации 1400000 коэффициент b0 = 444.1772211426558, коэффициент b1 = 2.6205398847603147, а mse = 6470.414201181364 \n",
      "На итерации 1500000 коэффициент b0 = 444.17727532705, коэффициент b1 = 2.6205394859392173, а mse = 6470.414201178367 \n",
      "На итерации 1600000 коэффициент b0 = 444.1773079523922, коэффициент b1 = 2.620539245802274, а mse = 6470.41420117728 \n",
      "На итерации 1700000 коэффициент b0 = 444.1773275966614, коэффициент b1 = 2.620539101211767, а mse = 6470.414201176882 \n",
      "На итерации 1800000 коэффициент b0 = 444.1773394248094, коэффициент b1 = 2.620539014151368, а mse = 6470.41420117674 \n",
      "На итерации 1900000 коэффициент b0 = 444.1773465467358, коэффициент b1 = 2.6205389617308414, а mse = 6470.41420117669 \n",
      "На итерации 2000000 коэффициент b0 = 444.17735083496876, коэффициент b1 = 2.620538930167551, а mse = 6470.4142011766735 \n"
     ]
    }
   ],
   "source": [
    "b0_gi = 444\n",
    "b1_gi = 1\n",
    "alpha = 1e-5\n",
    "n = len(zp)\n",
    "\n",
    "def MSE(B0, B1, X, Y, N):\n",
    "  return np.sum((B0 + B1 * X - Y) ** 2) / N\n",
    "\n",
    "for i in range (2000001):\n",
    "    y_pred = b0_gi + b1_gi * zp\n",
    "    \n",
    "    error = ks - y_pred\n",
    "    \n",
    "    b0i_grad = np.sum(-2 * error) / n\n",
    "    b1i_grad = np.sum(-2 * (zp * error))/ n\n",
    "    \n",
    "    b0_gi = b0_gi - alpha * b0i_grad\n",
    "    b1_gi = b1_gi - alpha * b1i_grad   \n",
    "    \n",
    "    if i%100000 == 0:\n",
    "        print(f'На итерации {i} коэффициент b0 = {b0_gi}, коэффициент b1 = {b1_gi}, а mse = {MSE(b0_gi, b1_gi, zp, ks, n)} ')\n",
    "            "
   ]
  },
  {
   "cell_type": "code",
   "execution_count": 232,
   "id": "e6f12209",
   "metadata": {},
   "outputs": [
    {
     "name": "stdout",
     "output_type": "stream",
     "text": [
      "Коэффициент b0, полученный градиентным спуском  = 444.17735\n",
      "Коэффициент b0, полученный градиентным спуском  = 2.62054\n"
     ]
    }
   ],
   "source": [
    "print (f'Коэффициент b0, полученный градиентным спуском  = {round(b0_gi, 5)}')   \n",
    "print (f'Коэффициент b0, полученный градиентным спуском  = {round(b1_gi, 5)}')   "
   ]
  },
  {
   "cell_type": "code",
   "execution_count": null,
   "id": "00beb38d",
   "metadata": {},
   "outputs": [],
   "source": []
  }
 ],
 "metadata": {
  "kernelspec": {
   "display_name": "Python 3 (ipykernel)",
   "language": "python",
   "name": "python3"
  },
  "language_info": {
   "codemirror_mode": {
    "name": "ipython",
    "version": 3
   },
   "file_extension": ".py",
   "mimetype": "text/x-python",
   "name": "python",
   "nbconvert_exporter": "python",
   "pygments_lexer": "ipython3",
   "version": "3.9.12"
  }
 },
 "nbformat": 4,
 "nbformat_minor": 5
}
